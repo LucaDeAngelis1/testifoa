{
 "cells": [
  {
   "cell_type": "code",
   "execution_count": 5,
   "id": "f21b3376",
   "metadata": {},
   "outputs": [],
   "source": [
    "import os\n",
    "from dotenv import load_dotenv\n",
    "#load_dotenv('.env')\n",
    "load_dotenv()\n",
    "\n",
    "API_key = os.getenv('api_key')"
   ]
  },
  {
   "cell_type": "code",
   "execution_count": 6,
   "id": "19740d9c",
   "metadata": {},
   "outputs": [
    {
     "data": {
      "text/plain": [
       "<Response [200]>"
      ]
     },
     "execution_count": 6,
     "metadata": {},
     "output_type": "execute_result"
    }
   ],
   "source": [
    "import requests\n",
    "\n",
    "city_name = 'Bologna'\n",
    "\n",
    "url = f'https://api.openweathermap.org/data/2.5/weather?q={city_name}&appid={API_key}'\n",
    "\n",
    "result = requests.get(url)\n",
    "result"
   ]
  },
  {
   "cell_type": "markdown",
   "id": "6bd415a9",
   "metadata": {},
   "source": [
    "# Response [200] ricevuta richiesta corretta, API_key corretto"
   ]
  },
  {
   "cell_type": "code",
   "execution_count": 7,
   "id": "4285f9a6",
   "metadata": {},
   "outputs": [
    {
     "data": {
      "text/plain": [
       "{'coord': {'lon': 11.4333, 'lat': 44.4667},\n",
       " 'weather': [{'id': 804,\n",
       "   'main': 'Clouds',\n",
       "   'description': 'overcast clouds',\n",
       "   'icon': '04d'}],\n",
       " 'base': 'stations',\n",
       " 'main': {'temp': 293.74,\n",
       "  'feels_like': 293.47,\n",
       "  'temp_min': 293.65,\n",
       "  'temp_max': 294.96,\n",
       "  'pressure': 1014,\n",
       "  'humidity': 62,\n",
       "  'sea_level': 1014,\n",
       "  'grnd_level': 999},\n",
       " 'visibility': 10000,\n",
       " 'wind': {'speed': 3.13, 'deg': 53, 'gust': 4.92},\n",
       " 'clouds': {'all': 85},\n",
       " 'dt': 1747138300,\n",
       " 'sys': {'type': 2,\n",
       "  'id': 2004497,\n",
       "  'country': 'IT',\n",
       "  'sunrise': 1747108148,\n",
       "  'sunset': 1747161133},\n",
       " 'timezone': 7200,\n",
       " 'id': 3181927,\n",
       " 'name': 'Bologna',\n",
       " 'cod': 200}"
      ]
     },
     "execution_count": 7,
     "metadata": {},
     "output_type": "execute_result"
    }
   ],
   "source": [
    "json = result.json()\n",
    "json"
   ]
  },
  {
   "cell_type": "code",
   "execution_count": 11,
   "id": "3ad9e4f8",
   "metadata": {},
   "outputs": [
    {
     "data": {
      "text/plain": [
       "[{'id': 804,\n",
       "  'main': 'Clouds',\n",
       "  'description': 'overcast clouds',\n",
       "  'icon': '04d'}]"
      ]
     },
     "execution_count": 11,
     "metadata": {},
     "output_type": "execute_result"
    }
   ],
   "source": [
    "json['weather']"
   ]
  },
  {
   "cell_type": "code",
   "execution_count": null,
   "id": "25f5f2dc",
   "metadata": {},
   "outputs": [
    {
     "data": {
      "text/plain": [
       "{'id': 804, 'main': 'Clouds', 'description': 'overcast clouds', 'icon': '04d'}"
      ]
     },
     "execution_count": 10,
     "metadata": {},
     "output_type": "execute_result"
    }
   ],
   "source": [
    "json['weather'][0]      # è un'emoji"
   ]
  },
  {
   "cell_type": "code",
   "execution_count": 12,
   "id": "2cf70289",
   "metadata": {},
   "outputs": [
    {
     "data": {
      "text/plain": [
       "'04d'"
      ]
     },
     "execution_count": 12,
     "metadata": {},
     "output_type": "execute_result"
    }
   ],
   "source": [
    "json['weather'][0]['icon']"
   ]
  },
  {
   "cell_type": "code",
   "execution_count": 9,
   "id": "d955a7ae",
   "metadata": {},
   "outputs": [
    {
     "data": {
      "text/plain": [
       "{'speed': 3.13, 'deg': 53, 'gust': 4.92}"
      ]
     },
     "execution_count": 9,
     "metadata": {},
     "output_type": "execute_result"
    }
   ],
   "source": [
    "json['wind']"
   ]
  },
  {
   "cell_type": "code",
   "execution_count": 8,
   "id": "091db7b5",
   "metadata": {},
   "outputs": [
    {
     "data": {
      "text/plain": [
       "3.13"
      ]
     },
     "execution_count": 8,
     "metadata": {},
     "output_type": "execute_result"
    }
   ],
   "source": [
    "json['wind']['speed']"
   ]
  },
  {
   "cell_type": "code",
   "execution_count": 15,
   "id": "f32146dd",
   "metadata": {},
   "outputs": [],
   "source": [
    "temp_min = json['main']['temp_min']\n",
    "temp = json['main']['temp']\n",
    "temp_max = json['main']['temp_max']\n",
    "pressure = json['main']['pressure']\n",
    "humidity = json['main']['humidity']\n",
    "wind_speed = json['wind']['speed']\n",
    "country = json['sys']['country']\n",
    "name = json['name']"
   ]
  },
  {
   "cell_type": "code",
   "execution_count": 18,
   "id": "d008f9a2",
   "metadata": {},
   "outputs": [],
   "source": [
    "temp_min = json['main']['temp_min']-273.15\n",
    "temp = json['main']['temp']-273.15\n",
    "temp_max = json['main']['temp_max']-273.15\n",
    "pressure = json['main']['pressure']\n",
    "humidity = json['main']['humidity']\n",
    "wind_speed = json['wind']['speed']\n",
    "country = json['sys']['country']\n",
    "name = json['name']"
   ]
  },
  {
   "cell_type": "code",
   "execution_count": 22,
   "id": "d1ceeb3f",
   "metadata": {},
   "outputs": [
    {
     "name": "stdout",
     "output_type": "stream",
     "text": [
      "temp_min =  20.5\n",
      "temp =  20.590000000000032\n",
      "temp_max =  21.810000000000002\n",
      "pressure =  1014\n",
      "humidity =  62\n",
      "wind_speed =  3.13\n",
      "country =  IT\n",
      "name =  Bologna\n"
     ]
    }
   ],
   "source": [
    "print(\"temp_min = \", temp_min)\n",
    "print(\"temp = \", temp)\n",
    "print(\"temp_max = \", temp_max)\n",
    "print(\"pressure = \", pressure)\n",
    "print(\"humidity = \", humidity)\n",
    "print(\"wind_speed = \", wind_speed)\n",
    "print(\"country = \", country)\n",
    "print(\"name = \", name)"
   ]
  },
  {
   "cell_type": "code",
   "execution_count": null,
   "id": "3a8f316b",
   "metadata": {},
   "outputs": [],
   "source": [
    "# metto tutti i dati in un'unica rica (scrivo res = (...))"
   ]
  }
 ],
 "metadata": {
  "kernelspec": {
   "display_name": "Python 3",
   "language": "python",
   "name": "python3"
  },
  "language_info": {
   "codemirror_mode": {
    "name": "ipython",
    "version": 3
   },
   "file_extension": ".py",
   "mimetype": "text/x-python",
   "name": "python",
   "nbconvert_exporter": "python",
   "pygments_lexer": "ipython3",
   "version": "3.11.9"
  }
 },
 "nbformat": 4,
 "nbformat_minor": 5
}
